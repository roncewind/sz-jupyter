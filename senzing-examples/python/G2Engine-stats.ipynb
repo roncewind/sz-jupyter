{
    "cells": [
        {
            "cell_type": "markdown",
            "metadata": {},
            "source": [
                "# G2Engine Guide - Stats\n",
                "\n",
                "The `stats()` method creates a JSON string with information about your Senzing workload.\n",
                "\n",
                "More information:\n",
                "\n",
                "* [G2Engine Reference](senzing-G2Engine-reference.ipynb)"
            ]
        },
        {
            "cell_type": "markdown",
            "metadata": {},
            "source": [
                "## Prepare environment"
            ]
        },
        {
            "cell_type": "code",
            "execution_count": null,
            "metadata": {},
            "outputs": [],
            "source": [
                "import os\n",
                "import sys\n",
                "import json\n",
                "\n",
                "from IPython.display import JSON"
            ]
        },
        {
            "cell_type": "markdown",
            "metadata": {},
            "source": [
                "### System path\n",
                "\n",
                "Update system path."
            ]
        },
        {
            "cell_type": "code",
            "execution_count": null,
            "metadata": {},
            "outputs": [],
            "source": [
                "python_path = \"{0}/sdk/python\".format(\n",
                "    os.environ.get(\"SENZING_G2_DIR\", \"/opt/senzing/g2\"))\n",
                "sys.path.append(python_path)"
            ]
        },
        {
            "cell_type": "markdown",
            "metadata": {},
            "source": [
                "### Initialize variables\n",
                "\n",
                "Create variables needed to invoke `stats()`.\n",
                "Also, update system path."
            ]
        },
        {
            "cell_type": "code",
            "execution_count": null,
            "metadata": {},
            "outputs": [],
            "source": [
                "%run senzing-init-config.ipynb"
            ]
        },
        {
            "cell_type": "code",
            "execution_count": null,
            "metadata": {},
            "outputs": [],
            "source": [
                "%store -r senzing_config_json"
            ]
        },
        {
            "cell_type": "code",
            "execution_count": null,
            "metadata": {},
            "outputs": [],
            "source": [
                "JSON(json.loads(senzing_config_json))"
            ]
        },
        {
            "cell_type": "markdown",
            "metadata": {},
            "source": [
                "## G2Engine\n",
                "\n",
                "The G2Engine API..."
            ]
        },
        {
            "cell_type": "code",
            "execution_count": null,
            "metadata": {},
            "outputs": [],
            "source": [
                "from senzing import G2Engine, G2Exception"
            ]
        },
        {
            "cell_type": "markdown",
            "metadata": {},
            "source": [
                "### Initialization\n",
                "\n",
                "Details at [G2Engine initialization](senzing-G2Engine-reference.ipynb#G2Engine-initialization)."
            ]
        },
        {
            "cell_type": "code",
            "execution_count": null,
            "metadata": {},
            "outputs": [],
            "source": [
                "g2_engine = G2Engine()\n",
                "\n",
                "try:\n",
                "    g2_engine.init(\n",
                "        module_name,\n",
                "        senzing_config_json,\n",
                "        verbose_logging)\n",
                "\n",
                "except G2Exception as err:\n",
                "    print(err)"
            ]
        },
        {
            "cell_type": "markdown",
            "metadata": {},
            "source": [
                "### Statistics\n",
                "\n",
                "Call G2Engine's `stats()` method and pretty-print results.\n",
                "\n",
                "Details at [G2Engine.stats](senzing-G2Engine-reference.ipynb#stats)."
            ]
        },
        {
            "cell_type": "code",
            "execution_count": null,
            "metadata": {},
            "outputs": [],
            "source": [
                "response_bytearray = bytearray()\n",
                "\n",
                "try:\n",
                "    g2_engine.stats(response_bytearray)\n",
                "\n",
                "except G2Exception as err:\n",
                "    print(err)\n",
                "JSON(json.loads(response_bytearray))"
            ]
        }
    ],
    "metadata": {
        "kernelspec": {
            "display_name": "Python 3.9.14 64-bit",
            "language": "python",
            "name": "python3"
        },
        "language_info": {
            "codemirror_mode": {
                "name": "ipython",
                "version": 3
            },
            "file_extension": ".py",
            "mimetype": "text/x-python",
            "name": "python",
            "nbconvert_exporter": "python",
            "pygments_lexer": "ipython3",
            "version": "3.9.14"
        },
        "toc": {
            "base_numbering": 1,
            "nav_menu": {},
            "number_sections": true,
            "sideBar": true,
            "skip_h1_title": true,
            "title_cell": "Table of Contents",
            "title_sidebar": "Contents",
            "toc_cell": false,
            "toc_position": {},
            "toc_section_display": true,
            "toc_window_display": true
        },
        "vscode": {
            "interpreter": {
                "hash": "ac2eaa0ea0ebeafcc7822e65e46aa9d4f966f30b695406963e145ea4a91cd4fc"
            }
        }
    },
    "nbformat": 4,
    "nbformat_minor": 2
}
